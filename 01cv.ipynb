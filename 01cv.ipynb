{
 "cells": [
  {
   "cell_type": "markdown",
   "metadata": {},
   "source": [
    "# Read ,Show & Write an Images"
   ]
  },
  {
   "cell_type": "code",
   "execution_count": 1,
   "metadata": {},
   "outputs": [],
   "source": [
    "import cv2"
   ]
  },
  {
   "cell_type": "code",
   "execution_count": 7,
   "metadata": {},
   "outputs": [],
   "source": [
    "img=cv2.imread('opecv.jpg')\n",
    "cv2.imshow('show',img)\n",
    "cv2.imwrite('opencv.jpg',img)\n",
    "cv2.waitKey(1000)\n",
    "cv2.destroyAllWindows()"
   ]
  },
  {
   "cell_type": "markdown",
   "metadata": {},
   "source": [
    "# Converting Color Image to Greyscale  Image"
   ]
  },
  {
   "cell_type": "code",
   "execution_count": 8,
   "metadata": {},
   "outputs": [],
   "source": [
    "import cv2\n",
    "image=cv2.imread('opencv.jpg')\n",
    "grayImage=cv2.cvtColor(image,cv2.COLOR_BGR2GRAY)\n",
    "cv2.imshow('grayImage',grayImage)\n",
    "cv2.imwrite('grayImage.png',grayImage)\n",
    "cv2.waitKey(10000)\n",
    "cv2.destroyAllWindows()\n",
    "\n",
    "\n"
   ]
  },
  {
   "cell_type": "code",
   "execution_count": 9,
   "metadata": {},
   "outputs": [
    {
     "name": "stdout",
     "output_type": "stream",
     "text": [
      "(148, 254, 3)\n",
      "uint8\n",
      "112776\n"
     ]
    }
   ],
   "source": [
    "print(image.shape)\n",
    "print(image.dtype)\n",
    "print(image.size)"
   ]
  },
  {
   "cell_type": "code",
   "execution_count": 25,
   "metadata": {},
   "outputs": [],
   "source": [
    "import imutils\n"
   ]
  },
  {
   "cell_type": "markdown",
   "metadata": {},
   "source": [
    "# Resize image"
   ]
  },
  {
   "cell_type": "code",
   "execution_count": 23,
   "metadata": {},
   "outputs": [],
   "source": [
    "rimg=cv2.imread('opecv.jpg')\n",
    "reSizeImg=cv2.resize(rimg,(500,500))\n",
    "\n",
    "cv2.imshow('Original Image',rimg)\n",
    "cv2.imshow('Resized Image',reSizeImg)\n",
    "cv2.imwrite('resizedRename.png',reSizeImg)\n",
    "\n",
    "cv2.waitKey(10000)\n",
    "cv2.destroyAllWindows()\n"
   ]
  },
  {
   "cell_type": "markdown",
   "metadata": {},
   "source": [
    "# Gaussian Blur - Smoothing"
   ]
  },
  {
   "cell_type": "code",
   "execution_count": 26,
   "metadata": {},
   "outputs": [],
   "source": [
    "import cv2\n",
    "bimg=cv2.imread('pblur.png')\n",
    "grayImg=cv2.cvtColor(bimg,cv2.COLOR_BGR2GRAY)\n",
    "#dst=cv2.GaussianBlur(src,(kernel),borderType)\n",
    "\n",
    "gussianBlur=cv2.GaussianBlur(bimg,(41,41),50)\n",
    "gussianBlur2=cv2.GaussianBlur(bimg,(21,21),0)\n",
    "\n",
    "cv2.imshow('Blur',gussianBlur)\n",
    "cv2.imshow('Blur2',gussianBlur2)\n",
    "\n",
    "cv2.waitKey(10000)\n",
    "cv2.destroyAllWindows()"
   ]
  }
 ],
 "metadata": {
  "kernelspec": {
   "display_name": "datascience",
   "language": "python",
   "name": "python3"
  },
  "language_info": {
   "codemirror_mode": {
    "name": "ipython",
    "version": 3
   },
   "file_extension": ".py",
   "mimetype": "text/x-python",
   "name": "python",
   "nbconvert_exporter": "python",
   "pygments_lexer": "ipython3",
   "version": "3.8.19"
  }
 },
 "nbformat": 4,
 "nbformat_minor": 2
}
